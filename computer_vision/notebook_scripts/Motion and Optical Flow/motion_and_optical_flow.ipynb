{
 "cells": [
  {
   "cell_type": "markdown",
   "metadata": {},
   "source": [
    "# Motion and Optical Flow"
   ]
  },
  {
   "cell_type": "code",
   "execution_count": null,
   "metadata": {},
   "outputs": [],
   "source": [
    "import numpy as np\n",
    "\n",
    "from itertools import product"
   ]
  },
  {
   "cell_type": "markdown",
   "metadata": {},
   "source": [
    "## Convolution Functions"
   ]
  },
  {
   "cell_type": "code",
   "execution_count": null,
   "metadata": {},
   "outputs": [],
   "source": [
    "def pixel_convolution(image, mask, image_location):\n",
    "    image_row, image_col = image_location\n",
    "    mask_height, mask_width = mask.shape\n",
    "\n",
    "    height_margin = mask_height // 2\n",
    "    width_margin = mask_width // 2\n",
    "\n",
    "    convolution_sum = 0\n",
    "\n",
    "    for i, row in enumerate(range(-height_margin, height_margin + 1)):\n",
    "        for j, col in enumerate(range(-width_margin, width_margin + 1)):\n",
    "            convolution_sum += image[row + image_row, col + image_col] * mask[i, j]\n",
    "\n",
    "    return convolution_sum\n",
    "\n",
    "def image_convolution(image, mask):\n",
    "    filtered_image = []\n",
    "\n",
    "    mask_height, mask_width = mask.shape\n",
    "    image_height, image_width = image.shape\n",
    "    \n",
    "    start_row = mask_height // 2\n",
    "    start_col = mask_width // 2\n",
    "\n",
    "    end_row = image_height - start_row\n",
    "    end_col = image_width - start_col\n",
    "\n",
    "    filtered_image = np.zeros((end_col - start_col, end_row - start_row))\n",
    "\n",
    "    for i, row in enumerate(range(start_row, end_row)):\n",
    "        for j, col in enumerate(range(start_col, end_col)):\n",
    "            filtered_image[i, j] = pixel_convolution(image, mask, (row, col))\n",
    "        \n",
    "    return filtered_image\n",
    "\n",
    "def add_padding(image, kernel_size):\n",
    "    kernel_height, kernel_width = kernel_size\n",
    "    image_height, image_width = image.shape\n",
    "\n",
    "    if kernel_height % 2 == 0 or kernel_width % 2 == 0:\n",
    "        raise ValueError(\"Kernel size must be odd-sized in both dimensions\")\n",
    "\n",
    "    padding_height = kernel_height // 2\n",
    "    padding_width = kernel_width // 2\n",
    "\n",
    "    padded_image_height = image_height + 2 * padding_height\n",
    "    padded_image_width = image_width + 2 * padding_width\n",
    "\n",
    "    padded_image = np.zeros((padded_image_height, padded_image_width))\n",
    "    padded_image[\n",
    "        padding_height : padded_image_height - padding_height,\n",
    "        padding_width : padded_image_width - padding_width\n",
    "    ] = image\n",
    "\n",
    "    return padded_image\n",
    "    "
   ]
  },
  {
   "cell_type": "markdown",
   "metadata": {},
   "source": [
    "## Kernels"
   ]
  },
  {
   "cell_type": "code",
   "execution_count": null,
   "metadata": {},
   "outputs": [],
   "source": [
    "pixel_gradient_kernel = np.array(\n",
    "    [-1/12, 2/3, 0, -2/3, 1/12]\n",
    ")\n",
    "\n",
    "time_kernel = np.array(\n",
    "    [-1, 1]\n",
    ")\n",
    "\n",
    "gaussian_kernel = np.array([\n",
    "    [1, 4, 7, 4, 1],\n",
    "    [4, 16, 26, 16, 4],\n",
    "    [7, 24, 41, 26, 7],\n",
    "    [4, 16, 26, 16, 4],\n",
    "    [1, 4, 7, 4, 1]\n",
    "]) / 273"
   ]
  },
  {
   "cell_type": "markdown",
   "metadata": {},
   "source": [
    "## Main Script"
   ]
  },
  {
   "cell_type": "code",
   "execution_count": null,
   "metadata": {},
   "outputs": [],
   "source": [
    "def lucas_kanade(frame_x, frame_y, region_size=25):\n",
    "    if frame_x.shape != frame_y.shape:\n",
    "        raise ValueError(\"Frames not the same shape.\")\n",
    "\n",
    "    frame_x_padded = add_padding(frame_x, (5, 1))\n",
    "    frame_y_padded = add_padding(frame_y, (5, 1))\n",
    "    frame_t_padded = add_padding(frame_x - frame_y, (2, 1))\n",
    "\n",
    "    # Compute the derivatives\n",
    "    x_derivative = image_convolution(frame_x_padded, pixel_gradient_kernel)\n",
    "    y_derivative = image_convolution(frame_y_padded, pixel_gradient_kernel)\n",
    "    t_derivative = image_convolution(frame_t_padded, time_kernel)\n",
    "\n",
    "    # Smooth all the gradients\n",
    "    x_derivative = image_convolution(x_derivative, gaussian_kernel)\n",
    "    y_derivative = image_convolution(y_derivative, gaussian_kernel)\n",
    "    t_derivative = image_convolution(t_derivative, gaussian_kernel)\n",
    "\n",
    "    solution_image = np.empty(frame_x.shape)\n",
    "    regions = range(region_size)\n",
    "\n",
    "    for region in regions:\n",
    "        indices = (region * region_size, (region + 1) * region_size)\n",
    "        \n",
    "        x_submatrix = x_derivative[indices]\n",
    "        y_submatrix = y_derivative[indices]\n",
    "        t_submatrix = t_derivative[indices]\n",
    "\n",
    "        for (x, y, t) in product(regions, regions, regions):\n",
    "            \n",
    "\n",
    "\n",
    "\n",
    "\n"
   ]
  }
 ],
 "metadata": {
  "interpreter": {
   "hash": "f088aa556007c3aeedb02928a6203e4a678942dfa8ee2ec29e5672aadf4136ab"
  },
  "kernelspec": {
   "display_name": "Python 3.8.11 64-bit ('3.8.11': pyenv)",
   "language": "python",
   "name": "python3"
  },
  "language_info": {
   "name": "python",
   "version": "3.8.11"
  },
  "orig_nbformat": 4
 },
 "nbformat": 4,
 "nbformat_minor": 2
}
