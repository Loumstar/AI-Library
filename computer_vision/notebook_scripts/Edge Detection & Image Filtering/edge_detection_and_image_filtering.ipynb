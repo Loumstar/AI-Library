{
 "cells": [
  {
   "cell_type": "markdown",
   "metadata": {},
   "source": [
    "# Edge Detection and Image Filtering"
   ]
  },
  {
   "cell_type": "code",
   "execution_count": 1,
   "metadata": {},
   "outputs": [],
   "source": [
    "import numpy as np"
   ]
  },
  {
   "cell_type": "markdown",
   "metadata": {},
   "source": [
    "### Convolution Functions and Operators"
   ]
  },
  {
   "cell_type": "code",
   "execution_count": 2,
   "metadata": {},
   "outputs": [],
   "source": [
    "def pixel_convolution(image, mask, image_location):\n",
    "    image_row, image_col = image_location\n",
    "    mask_height, mask_width = mask.shape\n",
    "\n",
    "    height_margin = mask_height // 2\n",
    "    width_margin = mask_width // 2\n",
    "\n",
    "    convolution_sum = 0\n",
    "\n",
    "    for i, row in enumerate(range(-height_margin, height_margin + 1)):\n",
    "        for j, col in enumerate(range(-width_margin, width_margin + 1)):\n",
    "            convolution_sum += image[row + image_row, col + image_col] * mask[i, j]\n",
    "\n",
    "    return convolution_sum\n",
    "\n",
    "def image_convolution(image, mask):\n",
    "    filtered_image = []\n",
    "\n",
    "    mask_height, mask_width = mask.shape\n",
    "    image_height, image_width = image.shape\n",
    "    \n",
    "    start_row = mask_height // 2\n",
    "    start_col = mask_width // 2\n",
    "\n",
    "    end_row = image_height - start_row\n",
    "    end_col = image_width - start_col\n",
    "\n",
    "    filtered_image = np.zeros((end_col - start_col, end_row - start_row))\n",
    "\n",
    "    for i, row in enumerate(range(start_row, end_row)):\n",
    "        for j, col in enumerate(range(start_col, end_col)):\n",
    "            filtered_image[i, j] = pixel_convolution(image, mask, (row, col))\n",
    "        \n",
    "    return filtered_image\n",
    "\n",
    "def gradient_direction(image, mask_x, mask_y):\n",
    "    image_x_convolution = image_convolution(image, mask_x)\n",
    "    image_y_convolution = image_convolution(image, mask_y)\n",
    "\n",
    "    return np.arctan(image_y_convolution / image_x_convolution)\n",
    "\n",
    "prewitt_x_operator = np.array([\n",
    "    [-1, 0, 1],\n",
    "    [-1, 0, 1],\n",
    "    [-1, 0, 1]\n",
    "])\n",
    "\n",
    "prewitt_y_operator = np.array([\n",
    "    [1, 1, 1],\n",
    "    [0, 0, 0],\n",
    "    [-1, -1, -1]\n",
    "])\n",
    "\n",
    "sobel_x_operator = np.array([\n",
    "    [-1, 0, 1],\n",
    "    [-2, 0, 2],\n",
    "    [-1, 0, 1]\n",
    "])\n",
    "\n",
    "sobel_y_operator = np.array([\n",
    "    [1, 2, 1],\n",
    "    [0, 0, 0],\n",
    "    [-1, -2, -1]\n",
    "])\n",
    "\n",
    "laplacian_operator = np.array([\n",
    "    [0, 1, 0],\n",
    "    [1, -4, 1],\n",
    "    [0, 1, 0]\n",
    "])\n",
    "\n",
    "def prewitt_gradient(image):\n",
    "    return gradient_direction(image, prewitt_x_operator, prewitt_y_operator)\n",
    "\n",
    "def sobel_gradient(image):\n",
    "    return gradient_direction(image, sobel_x_operator, sobel_y_operator)"
   ]
  },
  {
   "cell_type": "markdown",
   "metadata": {},
   "source": [
    "### Question 1: Calculate the gradient profile with different operators."
   ]
  },
  {
   "cell_type": "code",
   "execution_count": 3,
   "metadata": {},
   "outputs": [],
   "source": [
    "question_1_image = np.array([\n",
    "    [3, 4, 8, 15, 25, 44, 50, 52],\n",
    "    [3, 4, 8, 15, 25, 44, 50, 52],\n",
    "    [3, 4, 8, 15, 25, 44, 50, 52],\n",
    "    [3, 4, 8, 15, 25, 44, 50, 52],\n",
    "    [3, 4, 8, 15, 25, 44, 50, 52],\n",
    "    [3, 4, 8, 15, 25, 44, 50, 52],\n",
    "    [3, 4, 8, 15, 25, 44, 50, 52],\n",
    "    [3, 4, 8, 15, 25, 44, 50, 52]\n",
    "])"
   ]
  },
  {
   "cell_type": "markdown",
   "metadata": {},
   "source": [
    "#### Part(a): The Prewitt Operator"
   ]
  },
  {
   "cell_type": "code",
   "execution_count": 4,
   "metadata": {},
   "outputs": [
    {
     "name": "stdout",
     "output_type": "stream",
     "text": [
      "[[15. 33. 51. 87. 75. 24.]\n",
      " [15. 33. 51. 87. 75. 24.]\n",
      " [15. 33. 51. 87. 75. 24.]\n",
      " [15. 33. 51. 87. 75. 24.]\n",
      " [15. 33. 51. 87. 75. 24.]\n",
      " [15. 33. 51. 87. 75. 24.]]\n",
      "[[0. 0. 0. 0. 0. 0.]\n",
      " [0. 0. 0. 0. 0. 0.]\n",
      " [0. 0. 0. 0. 0. 0.]\n",
      " [0. 0. 0. 0. 0. 0.]\n",
      " [0. 0. 0. 0. 0. 0.]\n",
      " [0. 0. 0. 0. 0. 0.]]\n"
     ]
    }
   ],
   "source": [
    "print(image_convolution(question_1_image, prewitt_x_operator))\n",
    "print(image_convolution(question_1_image, prewitt_y_operator))"
   ]
  },
  {
   "cell_type": "markdown",
   "metadata": {},
   "source": [
    "#### Part (b): The Sobel Operator"
   ]
  },
  {
   "cell_type": "code",
   "execution_count": 5,
   "metadata": {},
   "outputs": [
    {
     "name": "stdout",
     "output_type": "stream",
     "text": [
      "[[ 20.  44.  68. 116. 100.  32.]\n",
      " [ 20.  44.  68. 116. 100.  32.]\n",
      " [ 20.  44.  68. 116. 100.  32.]\n",
      " [ 20.  44.  68. 116. 100.  32.]\n",
      " [ 20.  44.  68. 116. 100.  32.]\n",
      " [ 20.  44.  68. 116. 100.  32.]]\n",
      "[[0. 0. 0. 0. 0. 0.]\n",
      " [0. 0. 0. 0. 0. 0.]\n",
      " [0. 0. 0. 0. 0. 0.]\n",
      " [0. 0. 0. 0. 0. 0.]\n",
      " [0. 0. 0. 0. 0. 0.]\n",
      " [0. 0. 0. 0. 0. 0.]]\n"
     ]
    }
   ],
   "source": [
    "print(image_convolution(question_1_image, sobel_x_operator))\n",
    "print(image_convolution(question_1_image, sobel_y_operator))"
   ]
  },
  {
   "cell_type": "markdown",
   "metadata": {},
   "source": [
    "#### Part(c): The Laplacian Operator"
   ]
  },
  {
   "cell_type": "code",
   "execution_count": 6,
   "metadata": {},
   "outputs": [
    {
     "name": "stdout",
     "output_type": "stream",
     "text": [
      "[[  3.   3.   3.   9. -13.  -4.]\n",
      " [  3.   3.   3.   9. -13.  -4.]\n",
      " [  3.   3.   3.   9. -13.  -4.]\n",
      " [  3.   3.   3.   9. -13.  -4.]\n",
      " [  3.   3.   3.   9. -13.  -4.]\n",
      " [  3.   3.   3.   9. -13.  -4.]]\n"
     ]
    }
   ],
   "source": [
    "print(image_convolution(question_1_image, laplacian_operator))"
   ]
  },
  {
   "cell_type": "markdown",
   "metadata": {},
   "source": [
    "### Question 2: Calculate the pixel gradients"
   ]
  },
  {
   "cell_type": "code",
   "execution_count": 7,
   "metadata": {},
   "outputs": [],
   "source": [
    "question_2_image = np.array([\n",
    "    [7, 12, 9],\n",
    "    [6, 7, 8],\n",
    "    [3, 4, 5]\n",
    "])"
   ]
  },
  {
   "cell_type": "markdown",
   "metadata": {},
   "source": [
    "#### Part (a): The Prewitt Operators"
   ]
  },
  {
   "cell_type": "code",
   "execution_count": 8,
   "metadata": {},
   "outputs": [
    {
     "name": "stdout",
     "output_type": "stream",
     "text": [
      "Gradient angle is 69.44 degrees.\n"
     ]
    }
   ],
   "source": [
    "radian_angle = prewitt_gradient(question_2_image)\n",
    "print(f\"Gradient angle is {radian_angle[0, 0] * 180 / np.pi:.2f} degrees.\")"
   ]
  },
  {
   "cell_type": "markdown",
   "metadata": {},
   "source": [
    "#### Part (b): The Sobel Operators"
   ]
  },
  {
   "cell_type": "code",
   "execution_count": 9,
   "metadata": {},
   "outputs": [
    {
     "name": "stdout",
     "output_type": "stream",
     "text": [
      "Gradient angle is 71.57 degrees.\n"
     ]
    }
   ],
   "source": [
    "radian_angle = sobel_gradient(question_2_image)\n",
    "print(f\"Gradient angle is {radian_angle[0, 0] * 180 / np.pi:.2f} degrees.\")"
   ]
  },
  {
   "cell_type": "markdown",
   "metadata": {},
   "source": [
    "### Question 3: Smoothing Convolution"
   ]
  },
  {
   "cell_type": "code",
   "execution_count": 10,
   "metadata": {},
   "outputs": [
    {
     "name": "stdout",
     "output_type": "stream",
     "text": [
      "[[ 4.5         8.5        15.5        26.5        41.83333333 49.33333333]\n",
      " [ 4.5         8.5        15.5        26.5        41.83333333 49.33333333]\n",
      " [ 4.5         8.5        15.5        26.5        41.83333333 49.33333333]\n",
      " [ 4.5         8.5        15.5        26.5        41.83333333 49.33333333]\n",
      " [ 4.5         8.5        15.5        26.5        41.83333333 49.33333333]\n",
      " [ 4.5         8.5        15.5        26.5        41.83333333 49.33333333]]\n"
     ]
    }
   ],
   "source": [
    "smoothing_operator = np.array([\n",
    "    [1/36, 1/9, 1/36],\n",
    "    [1/9, 4/9, 1/9],\n",
    "    [1/36, 1/9, 1/36]\n",
    "])\n",
    "\n",
    "print(image_convolution(question_1_image, smoothing_operator))"
   ]
  },
  {
   "cell_type": "markdown",
   "metadata": {},
   "source": [
    "Convolving the smoothing operator over the image from Question 1 spreads the intensities out to neighbouring pixels, creating a blurring effect. The determinant of the smoothing operator is 1, so unlike the other operators, this will not increase the overall brightness of the image.\n",
    "\n",
    "The computational cost of this calculation is O(n^4), as for each pixel in the image (N x N pixels), the mask needs to be convolved over, which for a mask of row and column size K, is (K x K) computations per pixel. Therefore there are (N^2 x K^2) computations.\n",
    "\n",
    "This can be reduced by applying two one-dimensional masks for each pixel, reducing the number of computations to (2 x N^2 x K), so the time complexity becomes O(n^3)."
   ]
  }
 ],
 "metadata": {
  "interpreter": {
   "hash": "f088aa556007c3aeedb02928a6203e4a678942dfa8ee2ec29e5672aadf4136ab"
  },
  "kernelspec": {
   "display_name": "Python 3.8.11 64-bit ('3.8.11': pyenv)",
   "language": "python",
   "name": "python3"
  },
  "language_info": {
   "codemirror_mode": {
    "name": "ipython",
    "version": 3
   },
   "file_extension": ".py",
   "mimetype": "text/x-python",
   "name": "python",
   "nbconvert_exporter": "python",
   "pygments_lexer": "ipython3",
   "version": "3.8.11"
  },
  "orig_nbformat": 4
 },
 "nbformat": 4,
 "nbformat_minor": 2
}
